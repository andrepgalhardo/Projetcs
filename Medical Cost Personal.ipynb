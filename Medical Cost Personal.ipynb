{
 "cells": [
  {
   "cell_type": "code",
   "execution_count": 1,
   "id": "dc2ed11f",
   "metadata": {},
   "outputs": [],
   "source": [
    "from zipfile import ZipFile\n",
    "\n",
    "import pandas as pd\n",
    "import numpy as np\n",
    "\n",
    "import matplotlib.pyplot as plt\n",
    "import seaborn as sns"
   ]
  },
  {
   "cell_type": "code",
   "execution_count": 2,
   "id": "6b19af50",
   "metadata": {},
   "outputs": [
    {
     "name": "stdout",
     "output_type": "stream",
     "text": [
      "File Name                                             Modified             Size\n",
      "insurance.csv                                  2019-09-27 17:19:14        55628\n"
     ]
    }
   ],
   "source": [
    "file_path = 'archive.zip'\n",
    "\n",
    "with ZipFile(file_path, 'r') as zip:\n",
    "    zip.printdir()"
   ]
  },
  {
   "cell_type": "code",
   "execution_count": 3,
   "id": "3e62e3de",
   "metadata": {},
   "outputs": [],
   "source": [
    "df = pd.read_csv('insurance.csv')"
   ]
  },
  {
   "cell_type": "code",
   "execution_count": 4,
   "id": "cd3f3220",
   "metadata": {},
   "outputs": [
    {
     "data": {
      "text/html": [
       "<div>\n",
       "<style scoped>\n",
       "    .dataframe tbody tr th:only-of-type {\n",
       "        vertical-align: middle;\n",
       "    }\n",
       "\n",
       "    .dataframe tbody tr th {\n",
       "        vertical-align: top;\n",
       "    }\n",
       "\n",
       "    .dataframe thead th {\n",
       "        text-align: right;\n",
       "    }\n",
       "</style>\n",
       "<table border=\"1\" class=\"dataframe\">\n",
       "  <thead>\n",
       "    <tr style=\"text-align: right;\">\n",
       "      <th></th>\n",
       "      <th>age</th>\n",
       "      <th>sex</th>\n",
       "      <th>bmi</th>\n",
       "      <th>children</th>\n",
       "      <th>smoker</th>\n",
       "      <th>region</th>\n",
       "      <th>charges</th>\n",
       "    </tr>\n",
       "  </thead>\n",
       "  <tbody>\n",
       "    <tr>\n",
       "      <th>0</th>\n",
       "      <td>19</td>\n",
       "      <td>female</td>\n",
       "      <td>27.900</td>\n",
       "      <td>0</td>\n",
       "      <td>yes</td>\n",
       "      <td>southwest</td>\n",
       "      <td>16884.92400</td>\n",
       "    </tr>\n",
       "    <tr>\n",
       "      <th>1</th>\n",
       "      <td>18</td>\n",
       "      <td>male</td>\n",
       "      <td>33.770</td>\n",
       "      <td>1</td>\n",
       "      <td>no</td>\n",
       "      <td>southeast</td>\n",
       "      <td>1725.55230</td>\n",
       "    </tr>\n",
       "    <tr>\n",
       "      <th>2</th>\n",
       "      <td>28</td>\n",
       "      <td>male</td>\n",
       "      <td>33.000</td>\n",
       "      <td>3</td>\n",
       "      <td>no</td>\n",
       "      <td>southeast</td>\n",
       "      <td>4449.46200</td>\n",
       "    </tr>\n",
       "    <tr>\n",
       "      <th>3</th>\n",
       "      <td>33</td>\n",
       "      <td>male</td>\n",
       "      <td>22.705</td>\n",
       "      <td>0</td>\n",
       "      <td>no</td>\n",
       "      <td>northwest</td>\n",
       "      <td>21984.47061</td>\n",
       "    </tr>\n",
       "    <tr>\n",
       "      <th>4</th>\n",
       "      <td>32</td>\n",
       "      <td>male</td>\n",
       "      <td>28.880</td>\n",
       "      <td>0</td>\n",
       "      <td>no</td>\n",
       "      <td>northwest</td>\n",
       "      <td>3866.85520</td>\n",
       "    </tr>\n",
       "  </tbody>\n",
       "</table>\n",
       "</div>"
      ],
      "text/plain": [
       "   age     sex     bmi  children smoker     region      charges\n",
       "0   19  female  27.900         0    yes  southwest  16884.92400\n",
       "1   18    male  33.770         1     no  southeast   1725.55230\n",
       "2   28    male  33.000         3     no  southeast   4449.46200\n",
       "3   33    male  22.705         0     no  northwest  21984.47061\n",
       "4   32    male  28.880         0     no  northwest   3866.85520"
      ]
     },
     "execution_count": 4,
     "metadata": {},
     "output_type": "execute_result"
    }
   ],
   "source": [
    "df.head()"
   ]
  },
  {
   "cell_type": "code",
   "execution_count": 5,
   "id": "32aa9d35",
   "metadata": {},
   "outputs": [
    {
     "data": {
      "text/plain": [
       "age         0\n",
       "sex         0\n",
       "bmi         0\n",
       "children    0\n",
       "smoker      0\n",
       "region      0\n",
       "charges     0\n",
       "dtype: int64"
      ]
     },
     "execution_count": 5,
     "metadata": {},
     "output_type": "execute_result"
    }
   ],
   "source": [
    "df.isnull().sum()"
   ]
  },
  {
   "cell_type": "code",
   "execution_count": 6,
   "id": "394c23b6",
   "metadata": {},
   "outputs": [
    {
     "data": {
      "text/plain": [
       "1"
      ]
     },
     "execution_count": 6,
     "metadata": {},
     "output_type": "execute_result"
    }
   ],
   "source": [
    "df.duplicated().sum()"
   ]
  },
  {
   "cell_type": "code",
   "execution_count": 7,
   "id": "c8eff9a3",
   "metadata": {},
   "outputs": [
    {
     "name": "stdout",
     "output_type": "stream",
     "text": [
      "<class 'pandas.core.frame.DataFrame'>\n",
      "RangeIndex: 1338 entries, 0 to 1337\n",
      "Data columns (total 7 columns):\n",
      " #   Column    Non-Null Count  Dtype  \n",
      "---  ------    --------------  -----  \n",
      " 0   age       1338 non-null   int64  \n",
      " 1   sex       1338 non-null   object \n",
      " 2   bmi       1338 non-null   float64\n",
      " 3   children  1338 non-null   int64  \n",
      " 4   smoker    1338 non-null   object \n",
      " 5   region    1338 non-null   object \n",
      " 6   charges   1338 non-null   float64\n",
      "dtypes: float64(2), int64(2), object(3)\n",
      "memory usage: 73.3+ KB\n"
     ]
    }
   ],
   "source": [
    "df.info()"
   ]
  },
  {
   "cell_type": "markdown",
   "id": "634130a1",
   "metadata": {},
   "source": [
    "### EDA"
   ]
  },
  {
   "cell_type": "code",
   "execution_count": 8,
   "id": "0c28bedf",
   "metadata": {},
   "outputs": [
    {
     "name": "stdout",
     "output_type": "stream",
     "text": [
      "sex\n",
      "male      676\n",
      "female    662\n",
      "Name: count, dtype: int64\n",
      "smoker\n",
      "no     1064\n",
      "yes     274\n",
      "Name: count, dtype: int64\n",
      "region\n",
      "southeast    364\n",
      "southwest    325\n",
      "northwest    325\n",
      "northeast    324\n",
      "Name: count, dtype: int64\n"
     ]
    }
   ],
   "source": [
    "for i in df.select_dtypes(include=object):\n",
    "    print(df[i].value_counts())"
   ]
  },
  {
   "cell_type": "code",
   "execution_count": 9,
   "id": "0f8de6de",
   "metadata": {},
   "outputs": [],
   "source": [
    "df['sex'] = df['sex'].apply(lambda x: 1 if x == 'male' else 0)\n",
    "df['smoker'] = df['smoker'].apply(lambda x: 1 if x == 'yes' else 0)"
   ]
  },
  {
   "cell_type": "code",
   "execution_count": 10,
   "id": "2c602a6b",
   "metadata": {},
   "outputs": [
    {
     "name": "stdout",
     "output_type": "stream",
     "text": [
      "region\n",
      "southeast    364\n",
      "southwest    325\n",
      "northwest    325\n",
      "northeast    324\n",
      "Name: count, dtype: int64\n"
     ]
    }
   ],
   "source": [
    "for i in df.select_dtypes(include=object):\n",
    "    print(df[i].value_counts())"
   ]
  },
  {
   "cell_type": "code",
   "execution_count": 11,
   "id": "c5d0587f",
   "metadata": {},
   "outputs": [],
   "source": [
    "df = pd.get_dummies(df, columns=['region'], dtype=int)"
   ]
  },
  {
   "cell_type": "code",
   "execution_count": 12,
   "id": "da896cc2",
   "metadata": {},
   "outputs": [
    {
     "name": "stdout",
     "output_type": "stream",
     "text": [
      "<class 'pandas.core.frame.DataFrame'>\n",
      "RangeIndex: 1338 entries, 0 to 1337\n",
      "Data columns (total 10 columns):\n",
      " #   Column            Non-Null Count  Dtype  \n",
      "---  ------            --------------  -----  \n",
      " 0   age               1338 non-null   int64  \n",
      " 1   sex               1338 non-null   int64  \n",
      " 2   bmi               1338 non-null   float64\n",
      " 3   children          1338 non-null   int64  \n",
      " 4   smoker            1338 non-null   int64  \n",
      " 5   charges           1338 non-null   float64\n",
      " 6   region_northeast  1338 non-null   int64  \n",
      " 7   region_northwest  1338 non-null   int64  \n",
      " 8   region_southeast  1338 non-null   int64  \n",
      " 9   region_southwest  1338 non-null   int64  \n",
      "dtypes: float64(2), int64(8)\n",
      "memory usage: 104.7 KB\n"
     ]
    }
   ],
   "source": [
    "df.info()"
   ]
  },
  {
   "cell_type": "markdown",
   "id": "a35e1afd",
   "metadata": {},
   "source": [
    "### Split Dataset"
   ]
  },
  {
   "cell_type": "code",
   "execution_count": 13,
   "id": "e4653107",
   "metadata": {},
   "outputs": [],
   "source": [
    "X = df.drop(columns=['charges'])\n",
    "y = df['charges']"
   ]
  },
  {
   "cell_type": "code",
   "execution_count": 46,
   "id": "42ce6499",
   "metadata": {},
   "outputs": [],
   "source": [
    "train_features = X.sample(frac=.8, random_state=0)\n",
    "train_target = y.sample(frac=.8, random_state=0)\n",
    "test_features = X.drop(train_features.index)\n",
    "test_target = y.drop(train_target.index)"
   ]
  },
  {
   "cell_type": "markdown",
   "id": "e35ac4c5",
   "metadata": {},
   "source": [
    "### Model 1 - Baseline"
   ]
  },
  {
   "cell_type": "code",
   "execution_count": 15,
   "id": "e2222b09",
   "metadata": {
    "scrolled": true
   },
   "outputs": [
    {
     "name": "stderr",
     "output_type": "stream",
     "text": [
      "2024-01-10 17:50:21.691352: E external/local_xla/xla/stream_executor/cuda/cuda_dnn.cc:9261] Unable to register cuDNN factory: Attempting to register factory for plugin cuDNN when one has already been registered\n",
      "2024-01-10 17:50:21.691481: E external/local_xla/xla/stream_executor/cuda/cuda_fft.cc:607] Unable to register cuFFT factory: Attempting to register factory for plugin cuFFT when one has already been registered\n",
      "2024-01-10 17:50:21.747459: E external/local_xla/xla/stream_executor/cuda/cuda_blas.cc:1515] Unable to register cuBLAS factory: Attempting to register factory for plugin cuBLAS when one has already been registered\n",
      "2024-01-10 17:50:21.864343: I tensorflow/core/platform/cpu_feature_guard.cc:182] This TensorFlow binary is optimized to use available CPU instructions in performance-critical operations.\n",
      "To enable the following instructions: AVX2 FMA, in other operations, rebuild TensorFlow with the appropriate compiler flags.\n",
      "2024-01-10 17:50:23.008687: W tensorflow/compiler/tf2tensorrt/utils/py_utils.cc:38] TF-TRT Warning: Could not find TensorRT\n"
     ]
    }
   ],
   "source": [
    "import tensorflow as tf\n",
    "from tensorflow import keras"
   ]
  },
  {
   "cell_type": "code",
   "execution_count": 23,
   "id": "e8da437a",
   "metadata": {},
   "outputs": [],
   "source": [
    "model = keras.Sequential([\n",
    "    keras.layers.Dense(1, activation='relu', input_dim=9),\n",
    "    keras.layers.Dense(1)\n",
    "])\n",
    "\n",
    "model.compile(optimizer=keras.optimizers.RMSprop(),\n",
    "             loss=keras.losses.MeanSquaredError(),\n",
    "             metrics=keras.metrics.MeanAbsoluteError())"
   ]
  },
  {
   "cell_type": "code",
   "execution_count": 24,
   "id": "81b213c1",
   "metadata": {},
   "outputs": [
    {
     "name": "stdout",
     "output_type": "stream",
     "text": [
      "Model: \"sequential\"\n",
      "_________________________________________________________________\n",
      " Layer (type)                Output Shape              Param #   \n",
      "=================================================================\n",
      " dense_4 (Dense)             (None, 1)                 10        \n",
      "                                                                 \n",
      " dense_5 (Dense)             (None, 1)                 2         \n",
      "                                                                 \n",
      "=================================================================\n",
      "Total params: 12 (48.00 Byte)\n",
      "Trainable params: 12 (48.00 Byte)\n",
      "Non-trainable params: 0 (0.00 Byte)\n",
      "_________________________________________________________________\n"
     ]
    }
   ],
   "source": [
    "model.summary()"
   ]
  },
  {
   "cell_type": "code",
   "execution_count": 25,
   "id": "a89c692b",
   "metadata": {},
   "outputs": [],
   "source": [
    "model.build()"
   ]
  },
  {
   "cell_type": "code",
   "execution_count": 26,
   "id": "03632002",
   "metadata": {
    "scrolled": true
   },
   "outputs": [
    {
     "name": "stdout",
     "output_type": "stream",
     "text": [
      "Epoch 1/50\n"
     ]
    },
    {
     "name": "stderr",
     "output_type": "stream",
     "text": [
      "2024-01-10 17:56:23.956649: I external/local_tsl/tsl/platform/default/subprocess.cc:304] Start cannot spawn child process: No such file or directory\n"
     ]
    },
    {
     "name": "stdout",
     "output_type": "stream",
     "text": [
      "\r",
      " 1/27 [>.............................] - ETA: 27s - loss: 363822208.0000 - mean_absolute_error: 13944.0859"
     ]
    },
    {
     "name": "stderr",
     "output_type": "stream",
     "text": [
      "2024-01-10 17:56:24.299488: I external/local_xla/xla/service/service.cc:168] XLA service 0xae82b30 initialized for platform CUDA (this does not guarantee that XLA will be used). Devices:\n",
      "2024-01-10 17:56:24.299513: I external/local_xla/xla/service/service.cc:176]   StreamExecutor device (0): NVIDIA GeForce GTX 1650, Compute Capability 7.5\n",
      "2024-01-10 17:56:24.309823: I tensorflow/compiler/mlir/tensorflow/utils/dump_mlir_util.cc:269] disabling MLIR crash reproducer, set env var `MLIR_CRASH_REPRODUCER_DIRECTORY` to enable.\n",
      "2024-01-10 17:56:24.332156: I external/local_xla/xla/stream_executor/cuda/cuda_dnn.cc:454] Loaded cuDNN version 8907\n",
      "WARNING: All log messages before absl::InitializeLog() is called are written to STDERR\n",
      "I0000 00:00:1704920184.370558    3694 device_compiler.h:186] Compiled cluster using XLA!  This line is logged at most once for the lifetime of the process.\n"
     ]
    },
    {
     "name": "stdout",
     "output_type": "stream",
     "text": [
      "27/27 [==============================] - 1s 9ms/step - loss: 301895360.0000 - mean_absolute_error: 12712.5312 - val_loss: 363337568.0000 - val_mean_absolute_error: 14428.7061\n",
      "Epoch 2/50\n",
      "27/27 [==============================] - 0s 3ms/step - loss: 301886048.0000 - mean_absolute_error: 12712.0781 - val_loss: 363325312.0000 - val_mean_absolute_error: 14428.2920\n",
      "Epoch 3/50\n",
      "27/27 [==============================] - 0s 3ms/step - loss: 301874496.0000 - mean_absolute_error: 12711.5273 - val_loss: 363308928.0000 - val_mean_absolute_error: 14427.7480\n",
      "Epoch 4/50\n",
      "27/27 [==============================] - 0s 3ms/step - loss: 301858016.0000 - mean_absolute_error: 12710.7734 - val_loss: 363287552.0000 - val_mean_absolute_error: 14427.0215\n",
      "Epoch 5/50\n",
      "27/27 [==============================] - 0s 3ms/step - loss: 301837312.0000 - mean_absolute_error: 12709.7842 - val_loss: 363260832.0000 - val_mean_absolute_error: 14426.0898\n",
      "Epoch 6/50\n",
      "27/27 [==============================] - 0s 3ms/step - loss: 301809792.0000 - mean_absolute_error: 12708.6133 - val_loss: 363225280.0000 - val_mean_absolute_error: 14424.8135\n",
      "Epoch 7/50\n",
      "27/27 [==============================] - 0s 3ms/step - loss: 301774144.0000 - mean_absolute_error: 12707.0547 - val_loss: 363174816.0000 - val_mean_absolute_error: 14423.1270\n",
      "Epoch 8/50\n",
      "27/27 [==============================] - 0s 3ms/step - loss: 301725504.0000 - mean_absolute_error: 12705.1016 - val_loss: 363106816.0000 - val_mean_absolute_error: 14420.8789\n",
      "Epoch 9/50\n",
      "27/27 [==============================] - 0s 3ms/step - loss: 301663616.0000 - mean_absolute_error: 12702.7129 - val_loss: 363027168.0000 - val_mean_absolute_error: 14418.2148\n",
      "Epoch 10/50\n",
      "27/27 [==============================] - 0s 3ms/step - loss: 301591616.0000 - mean_absolute_error: 12699.9658 - val_loss: 362939104.0000 - val_mean_absolute_error: 14415.2666\n",
      "Epoch 11/50\n",
      "27/27 [==============================] - 0s 3ms/step - loss: 301511104.0000 - mean_absolute_error: 12696.9893 - val_loss: 362842912.0000 - val_mean_absolute_error: 14412.0752\n",
      "Epoch 12/50\n",
      "27/27 [==============================] - 0s 3ms/step - loss: 301423296.0000 - mean_absolute_error: 12693.7969 - val_loss: 362740448.0000 - val_mean_absolute_error: 14408.6787\n",
      "Epoch 13/50\n",
      "27/27 [==============================] - 0s 3ms/step - loss: 301332544.0000 - mean_absolute_error: 12690.4688 - val_loss: 362633664.0000 - val_mean_absolute_error: 14405.1328\n",
      "Epoch 14/50\n",
      "27/27 [==============================] - 0s 3ms/step - loss: 301240096.0000 - mean_absolute_error: 12687.0078 - val_loss: 362526592.0000 - val_mean_absolute_error: 14401.5781\n",
      "Epoch 15/50\n",
      "27/27 [==============================] - 0s 3ms/step - loss: 301146272.0000 - mean_absolute_error: 12683.4805 - val_loss: 362416224.0000 - val_mean_absolute_error: 14397.9121\n",
      "Epoch 16/50\n",
      "27/27 [==============================] - 0s 3ms/step - loss: 301047552.0000 - mean_absolute_error: 12679.8857 - val_loss: 362300928.0000 - val_mean_absolute_error: 14394.0830\n",
      "Epoch 17/50\n",
      "27/27 [==============================] - 0s 3ms/step - loss: 300946176.0000 - mean_absolute_error: 12676.1494 - val_loss: 362182368.0000 - val_mean_absolute_error: 14390.1436\n",
      "Epoch 18/50\n",
      "27/27 [==============================] - 0s 3ms/step - loss: 300840928.0000 - mean_absolute_error: 12672.2822 - val_loss: 362059680.0000 - val_mean_absolute_error: 14386.0674\n",
      "Epoch 19/50\n",
      "27/27 [==============================] - 0s 3ms/step - loss: 300731872.0000 - mean_absolute_error: 12668.3350 - val_loss: 361933920.0000 - val_mean_absolute_error: 14381.8857\n",
      "Epoch 20/50\n",
      "27/27 [==============================] - 0s 3ms/step - loss: 300624512.0000 - mean_absolute_error: 12664.2578 - val_loss: 361807872.0000 - val_mean_absolute_error: 14377.6963\n",
      "Epoch 21/50\n",
      "27/27 [==============================] - 0s 3ms/step - loss: 300511264.0000 - mean_absolute_error: 12660.1182 - val_loss: 361676576.0000 - val_mean_absolute_error: 14373.3291\n",
      "Epoch 22/50\n",
      "27/27 [==============================] - 0s 4ms/step - loss: 300394464.0000 - mean_absolute_error: 12655.8770 - val_loss: 361540640.0000 - val_mean_absolute_error: 14368.8057\n",
      "Epoch 23/50\n",
      "27/27 [==============================] - 0s 3ms/step - loss: 300277152.0000 - mean_absolute_error: 12651.4863 - val_loss: 361403680.0000 - val_mean_absolute_error: 14364.2490\n",
      "Epoch 24/50\n",
      "27/27 [==============================] - 0s 3ms/step - loss: 300156000.0000 - mean_absolute_error: 12647.0273 - val_loss: 361261600.0000 - val_mean_absolute_error: 14359.5186\n",
      "Epoch 25/50\n",
      "27/27 [==============================] - 0s 3ms/step - loss: 300033216.0000 - mean_absolute_error: 12642.4365 - val_loss: 361118976.0000 - val_mean_absolute_error: 14354.7695\n",
      "Epoch 26/50\n",
      "27/27 [==============================] - 0s 3ms/step - loss: 299906432.0000 - mean_absolute_error: 12637.7637 - val_loss: 360972288.0000 - val_mean_absolute_error: 14349.8818\n",
      "Epoch 27/50\n",
      "27/27 [==============================] - 0s 3ms/step - loss: 299778080.0000 - mean_absolute_error: 12632.9941 - val_loss: 360822272.0000 - val_mean_absolute_error: 14344.8848\n",
      "Epoch 28/50\n",
      "27/27 [==============================] - 0s 4ms/step - loss: 299644224.0000 - mean_absolute_error: 12628.1328 - val_loss: 360666656.0000 - val_mean_absolute_error: 14339.6982\n",
      "Epoch 29/50\n",
      "27/27 [==============================] - 0s 3ms/step - loss: 299508224.0000 - mean_absolute_error: 12623.1006 - val_loss: 360507840.0000 - val_mean_absolute_error: 14334.4033\n",
      "Epoch 30/50\n",
      "27/27 [==============================] - 0s 3ms/step - loss: 299370240.0000 - mean_absolute_error: 12617.9746 - val_loss: 360348256.0000 - val_mean_absolute_error: 14329.0811\n",
      "Epoch 31/50\n",
      "27/27 [==============================] - 0s 3ms/step - loss: 299228576.0000 - mean_absolute_error: 12612.7930 - val_loss: 360183648.0000 - val_mean_absolute_error: 14323.5889\n",
      "Epoch 32/50\n",
      "27/27 [==============================] - 0s 11ms/step - loss: 299084864.0000 - mean_absolute_error: 12607.4707 - val_loss: 360017760.0000 - val_mean_absolute_error: 14318.0527\n",
      "Epoch 33/50\n",
      "27/27 [==============================] - 0s 3ms/step - loss: 298939872.0000 - mean_absolute_error: 12602.0654 - val_loss: 359848736.0000 - val_mean_absolute_error: 14312.4092\n",
      "Epoch 34/50\n",
      "27/27 [==============================] - 0s 3ms/step - loss: 298793664.0000 - mean_absolute_error: 12596.5654 - val_loss: 359678368.0000 - val_mean_absolute_error: 14306.7188\n",
      "Epoch 35/50\n",
      "27/27 [==============================] - 0s 3ms/step - loss: 298642816.0000 - mean_absolute_error: 12590.9844 - val_loss: 359503744.0000 - val_mean_absolute_error: 14300.8828\n",
      "Epoch 36/50\n",
      "27/27 [==============================] - 0s 3ms/step - loss: 298486880.0000 - mean_absolute_error: 12585.2969 - val_loss: 359322624.0000 - val_mean_absolute_error: 14294.8311\n",
      "Epoch 37/50\n",
      "27/27 [==============================] - 0s 3ms/step - loss: 298328544.0000 - mean_absolute_error: 12579.4648 - val_loss: 359137056.0000 - val_mean_absolute_error: 14288.6250\n",
      "Epoch 38/50\n",
      "27/27 [==============================] - 0s 3ms/step - loss: 298170592.0000 - mean_absolute_error: 12573.4834 - val_loss: 358955616.0000 - val_mean_absolute_error: 14282.5537\n",
      "Epoch 39/50\n",
      "27/27 [==============================] - 0s 3ms/step - loss: 298006848.0000 - mean_absolute_error: 12567.5049 - val_loss: 358763712.0000 - val_mean_absolute_error: 14276.1309\n",
      "Epoch 40/50\n",
      "27/27 [==============================] - 0s 3ms/step - loss: 297841472.0000 - mean_absolute_error: 12561.3643 - val_loss: 358573920.0000 - val_mean_absolute_error: 14269.7773\n",
      "Epoch 41/50\n",
      "27/27 [==============================] - 0s 3ms/step - loss: 297675072.0000 - mean_absolute_error: 12555.1211 - val_loss: 358381024.0000 - val_mean_absolute_error: 14263.3154\n",
      "Epoch 42/50\n",
      "27/27 [==============================] - 0s 3ms/step - loss: 297501088.0000 - mean_absolute_error: 12548.8467 - val_loss: 358178368.0000 - val_mean_absolute_error: 14256.5244\n",
      "Epoch 43/50\n",
      "27/27 [==============================] - 0s 3ms/step - loss: 297329184.0000 - mean_absolute_error: 12542.3350 - val_loss: 357978912.0000 - val_mean_absolute_error: 14249.8389\n",
      "Epoch 44/50\n",
      "27/27 [==============================] - 0s 3ms/step - loss: 297153664.0000 - mean_absolute_error: 12535.8203 - val_loss: 357775040.0000 - val_mean_absolute_error: 14243.0000\n"
     ]
    },
    {
     "name": "stdout",
     "output_type": "stream",
     "text": [
      "Epoch 45/50\n",
      "27/27 [==============================] - 0s 3ms/step - loss: 296973952.0000 - mean_absolute_error: 12529.2256 - val_loss: 357566624.0000 - val_mean_absolute_error: 14236.0049\n",
      "Epoch 46/50\n",
      "27/27 [==============================] - 0s 3ms/step - loss: 296792832.0000 - mean_absolute_error: 12522.4766 - val_loss: 357358240.0000 - val_mean_absolute_error: 14229.0098\n",
      "Epoch 47/50\n",
      "27/27 [==============================] - 0s 3ms/step - loss: 296609536.0000 - mean_absolute_error: 12515.6260 - val_loss: 357144416.0000 - val_mean_absolute_error: 14221.8262\n",
      "Epoch 48/50\n",
      "27/27 [==============================] - 0s 3ms/step - loss: 296424128.0000 - mean_absolute_error: 12508.6592 - val_loss: 356928000.0000 - val_mean_absolute_error: 14214.5527\n",
      "Epoch 49/50\n",
      "27/27 [==============================] - 0s 3ms/step - loss: 296233984.0000 - mean_absolute_error: 12501.6016 - val_loss: 356708160.0000 - val_mean_absolute_error: 14207.1602\n",
      "Epoch 50/50\n",
      "27/27 [==============================] - 0s 3ms/step - loss: 296041952.0000 - mean_absolute_error: 12494.4443 - val_loss: 356487872.0000 - val_mean_absolute_error: 14199.7490\n"
     ]
    }
   ],
   "source": [
    "history = model.fit(train_features, train_target, epochs=50, validation_split=.2)"
   ]
  },
  {
   "cell_type": "markdown",
   "id": "3232cb53",
   "metadata": {},
   "source": [
    "### Normalization dataset"
   ]
  },
  {
   "cell_type": "code",
   "execution_count": 28,
   "id": "a80a996b",
   "metadata": {},
   "outputs": [],
   "source": [
    "train_features = (train_features - train_features.mean()) / train_features.std()\n",
    "train_target = (train_target - train_target.mean()) / train_target.std()"
   ]
  },
  {
   "cell_type": "markdown",
   "id": "441af026",
   "metadata": {},
   "source": [
    "### Train Baseline Again"
   ]
  },
  {
   "cell_type": "code",
   "execution_count": 35,
   "id": "c1f3d3e5",
   "metadata": {},
   "outputs": [],
   "source": [
    "model = keras.Sequential([\n",
    "    keras.layers.Dense(8, activation='relu', input_dim=9),\n",
    "    keras.layers.Dense(1)\n",
    "])\n",
    "\n",
    "model.compile(optimizer=keras.optimizers.RMSprop(),\n",
    "             loss=keras.losses.MeanSquaredError(),\n",
    "             metrics=keras.metrics.MeanAbsoluteError())"
   ]
  },
  {
   "cell_type": "code",
   "execution_count": 36,
   "id": "35ea4d68",
   "metadata": {},
   "outputs": [],
   "source": [
    "model.build()"
   ]
  },
  {
   "cell_type": "code",
   "execution_count": 37,
   "id": "08f86d3e",
   "metadata": {},
   "outputs": [
    {
     "name": "stdout",
     "output_type": "stream",
     "text": [
      "Epoch 1/100\n",
      "27/27 [==============================] - 1s 7ms/step - loss: 0.9206 - mean_absolute_error: 0.7626 - val_loss: 0.8133 - val_mean_absolute_error: 0.7008\n",
      "Epoch 2/100\n",
      "27/27 [==============================] - 0s 3ms/step - loss: 0.7277 - mean_absolute_error: 0.6642 - val_loss: 0.6609 - val_mean_absolute_error: 0.6236\n",
      "Epoch 3/100\n",
      "27/27 [==============================] - 0s 3ms/step - loss: 0.5908 - mean_absolute_error: 0.5863 - val_loss: 0.5373 - val_mean_absolute_error: 0.5511\n",
      "Epoch 4/100\n",
      "27/27 [==============================] - 0s 3ms/step - loss: 0.4862 - mean_absolute_error: 0.5178 - val_loss: 0.4434 - val_mean_absolute_error: 0.4917\n",
      "Epoch 5/100\n",
      "27/27 [==============================] - 0s 3ms/step - loss: 0.4036 - mean_absolute_error: 0.4604 - val_loss: 0.3699 - val_mean_absolute_error: 0.4444\n",
      "Epoch 6/100\n",
      "27/27 [==============================] - 0s 3ms/step - loss: 0.3445 - mean_absolute_error: 0.4197 - val_loss: 0.3208 - val_mean_absolute_error: 0.4115\n",
      "Epoch 7/100\n",
      "27/27 [==============================] - 0s 3ms/step - loss: 0.3028 - mean_absolute_error: 0.3878 - val_loss: 0.2861 - val_mean_absolute_error: 0.3911\n",
      "Epoch 8/100\n",
      "27/27 [==============================] - 0s 3ms/step - loss: 0.2728 - mean_absolute_error: 0.3668 - val_loss: 0.2615 - val_mean_absolute_error: 0.3706\n",
      "Epoch 9/100\n",
      "27/27 [==============================] - 0s 3ms/step - loss: 0.2505 - mean_absolute_error: 0.3485 - val_loss: 0.2436 - val_mean_absolute_error: 0.3528\n",
      "Epoch 10/100\n",
      "27/27 [==============================] - 0s 3ms/step - loss: 0.2346 - mean_absolute_error: 0.3317 - val_loss: 0.2295 - val_mean_absolute_error: 0.3428\n",
      "Epoch 11/100\n",
      "27/27 [==============================] - 0s 3ms/step - loss: 0.2210 - mean_absolute_error: 0.3247 - val_loss: 0.2166 - val_mean_absolute_error: 0.3267\n",
      "Epoch 12/100\n",
      "27/27 [==============================] - 0s 3ms/step - loss: 0.2104 - mean_absolute_error: 0.3107 - val_loss: 0.2071 - val_mean_absolute_error: 0.3219\n",
      "Epoch 13/100\n",
      "27/27 [==============================] - 0s 3ms/step - loss: 0.2011 - mean_absolute_error: 0.3005 - val_loss: 0.1989 - val_mean_absolute_error: 0.3155\n",
      "Epoch 14/100\n",
      "27/27 [==============================] - 0s 3ms/step - loss: 0.1934 - mean_absolute_error: 0.2945 - val_loss: 0.1918 - val_mean_absolute_error: 0.3069\n",
      "Epoch 15/100\n",
      "27/27 [==============================] - 0s 4ms/step - loss: 0.1863 - mean_absolute_error: 0.2872 - val_loss: 0.1848 - val_mean_absolute_error: 0.2979\n",
      "Epoch 16/100\n",
      "27/27 [==============================] - 0s 3ms/step - loss: 0.1806 - mean_absolute_error: 0.2808 - val_loss: 0.1796 - val_mean_absolute_error: 0.2910\n",
      "Epoch 17/100\n",
      "27/27 [==============================] - 0s 3ms/step - loss: 0.1757 - mean_absolute_error: 0.2739 - val_loss: 0.1753 - val_mean_absolute_error: 0.2870\n",
      "Epoch 18/100\n",
      "27/27 [==============================] - 0s 3ms/step - loss: 0.1713 - mean_absolute_error: 0.2659 - val_loss: 0.1717 - val_mean_absolute_error: 0.2864\n",
      "Epoch 19/100\n",
      "27/27 [==============================] - 0s 3ms/step - loss: 0.1673 - mean_absolute_error: 0.2642 - val_loss: 0.1671 - val_mean_absolute_error: 0.2772\n",
      "Epoch 20/100\n",
      "27/27 [==============================] - 0s 3ms/step - loss: 0.1642 - mean_absolute_error: 0.2592 - val_loss: 0.1639 - val_mean_absolute_error: 0.2726\n",
      "Epoch 21/100\n",
      "27/27 [==============================] - 0s 3ms/step - loss: 0.1614 - mean_absolute_error: 0.2527 - val_loss: 0.1621 - val_mean_absolute_error: 0.2729\n",
      "Epoch 22/100\n",
      "27/27 [==============================] - 0s 3ms/step - loss: 0.1589 - mean_absolute_error: 0.2528 - val_loss: 0.1604 - val_mean_absolute_error: 0.2700\n",
      "Epoch 23/100\n",
      "27/27 [==============================] - 0s 3ms/step - loss: 0.1571 - mean_absolute_error: 0.2515 - val_loss: 0.1588 - val_mean_absolute_error: 0.2659\n",
      "Epoch 24/100\n",
      "27/27 [==============================] - 0s 3ms/step - loss: 0.1553 - mean_absolute_error: 0.2484 - val_loss: 0.1575 - val_mean_absolute_error: 0.2620\n",
      "Epoch 25/100\n",
      "27/27 [==============================] - 0s 3ms/step - loss: 0.1541 - mean_absolute_error: 0.2459 - val_loss: 0.1561 - val_mean_absolute_error: 0.2590\n",
      "Epoch 26/100\n",
      "27/27 [==============================] - 0s 3ms/step - loss: 0.1527 - mean_absolute_error: 0.2436 - val_loss: 0.1556 - val_mean_absolute_error: 0.2584\n",
      "Epoch 27/100\n",
      "27/27 [==============================] - 0s 3ms/step - loss: 0.1514 - mean_absolute_error: 0.2432 - val_loss: 0.1547 - val_mean_absolute_error: 0.2547\n",
      "Epoch 28/100\n",
      "27/27 [==============================] - 0s 4ms/step - loss: 0.1507 - mean_absolute_error: 0.2416 - val_loss: 0.1535 - val_mean_absolute_error: 0.2544\n",
      "Epoch 29/100\n",
      "27/27 [==============================] - 0s 3ms/step - loss: 0.1493 - mean_absolute_error: 0.2427 - val_loss: 0.1527 - val_mean_absolute_error: 0.2487\n",
      "Epoch 30/100\n",
      "27/27 [==============================] - 0s 3ms/step - loss: 0.1485 - mean_absolute_error: 0.2382 - val_loss: 0.1527 - val_mean_absolute_error: 0.2512\n",
      "Epoch 31/100\n",
      "27/27 [==============================] - 0s 3ms/step - loss: 0.1475 - mean_absolute_error: 0.2377 - val_loss: 0.1511 - val_mean_absolute_error: 0.2501\n",
      "Epoch 32/100\n",
      "27/27 [==============================] - 0s 3ms/step - loss: 0.1469 - mean_absolute_error: 0.2397 - val_loss: 0.1507 - val_mean_absolute_error: 0.2452\n",
      "Epoch 33/100\n",
      "27/27 [==============================] - 0s 3ms/step - loss: 0.1462 - mean_absolute_error: 0.2358 - val_loss: 0.1501 - val_mean_absolute_error: 0.2454\n",
      "Epoch 34/100\n",
      "27/27 [==============================] - 0s 3ms/step - loss: 0.1458 - mean_absolute_error: 0.2352 - val_loss: 0.1502 - val_mean_absolute_error: 0.2451\n",
      "Epoch 35/100\n",
      "27/27 [==============================] - 0s 3ms/step - loss: 0.1450 - mean_absolute_error: 0.2334 - val_loss: 0.1494 - val_mean_absolute_error: 0.2501\n",
      "Epoch 36/100\n",
      "27/27 [==============================] - 0s 3ms/step - loss: 0.1445 - mean_absolute_error: 0.2352 - val_loss: 0.1484 - val_mean_absolute_error: 0.2467\n",
      "Epoch 37/100\n",
      "27/27 [==============================] - 0s 3ms/step - loss: 0.1440 - mean_absolute_error: 0.2350 - val_loss: 0.1480 - val_mean_absolute_error: 0.2458\n",
      "Epoch 38/100\n",
      "27/27 [==============================] - 0s 3ms/step - loss: 0.1436 - mean_absolute_error: 0.2326 - val_loss: 0.1475 - val_mean_absolute_error: 0.2470\n",
      "Epoch 39/100\n",
      "27/27 [==============================] - 0s 3ms/step - loss: 0.1431 - mean_absolute_error: 0.2345 - val_loss: 0.1466 - val_mean_absolute_error: 0.2441\n",
      "Epoch 40/100\n",
      "27/27 [==============================] - 0s 3ms/step - loss: 0.1428 - mean_absolute_error: 0.2322 - val_loss: 0.1463 - val_mean_absolute_error: 0.2439\n",
      "Epoch 41/100\n",
      "27/27 [==============================] - 0s 3ms/step - loss: 0.1422 - mean_absolute_error: 0.2324 - val_loss: 0.1462 - val_mean_absolute_error: 0.2409\n",
      "Epoch 42/100\n",
      "27/27 [==============================] - 0s 3ms/step - loss: 0.1419 - mean_absolute_error: 0.2316 - val_loss: 0.1452 - val_mean_absolute_error: 0.2403\n",
      "Epoch 43/100\n",
      "27/27 [==============================] - 0s 3ms/step - loss: 0.1415 - mean_absolute_error: 0.2311 - val_loss: 0.1461 - val_mean_absolute_error: 0.2410\n",
      "Epoch 44/100\n",
      "27/27 [==============================] - 0s 3ms/step - loss: 0.1411 - mean_absolute_error: 0.2306 - val_loss: 0.1449 - val_mean_absolute_error: 0.2414\n",
      "Epoch 45/100\n",
      "27/27 [==============================] - 0s 3ms/step - loss: 0.1407 - mean_absolute_error: 0.2319 - val_loss: 0.1441 - val_mean_absolute_error: 0.2375\n",
      "Epoch 46/100\n",
      "27/27 [==============================] - 0s 3ms/step - loss: 0.1404 - mean_absolute_error: 0.2297 - val_loss: 0.1431 - val_mean_absolute_error: 0.2393\n",
      "Epoch 47/100\n",
      "27/27 [==============================] - 0s 3ms/step - loss: 0.1400 - mean_absolute_error: 0.2263 - val_loss: 0.1442 - val_mean_absolute_error: 0.2521\n",
      "Epoch 48/100\n",
      "27/27 [==============================] - 0s 3ms/step - loss: 0.1405 - mean_absolute_error: 0.2340 - val_loss: 0.1431 - val_mean_absolute_error: 0.2412\n",
      "Epoch 49/100\n",
      "27/27 [==============================] - 0s 3ms/step - loss: 0.1398 - mean_absolute_error: 0.2301 - val_loss: 0.1429 - val_mean_absolute_error: 0.2379\n",
      "Epoch 50/100\n",
      "27/27 [==============================] - 0s 3ms/step - loss: 0.1392 - mean_absolute_error: 0.2286 - val_loss: 0.1428 - val_mean_absolute_error: 0.2376\n",
      "Epoch 51/100\n"
     ]
    },
    {
     "name": "stdout",
     "output_type": "stream",
     "text": [
      "27/27 [==============================] - 0s 3ms/step - loss: 0.1394 - mean_absolute_error: 0.2282 - val_loss: 0.1427 - val_mean_absolute_error: 0.2359\n",
      "Epoch 52/100\n",
      "27/27 [==============================] - 0s 3ms/step - loss: 0.1394 - mean_absolute_error: 0.2258 - val_loss: 0.1422 - val_mean_absolute_error: 0.2393\n",
      "Epoch 53/100\n",
      "27/27 [==============================] - 0s 3ms/step - loss: 0.1387 - mean_absolute_error: 0.2282 - val_loss: 0.1422 - val_mean_absolute_error: 0.2361\n",
      "Epoch 54/100\n",
      "27/27 [==============================] - 0s 3ms/step - loss: 0.1384 - mean_absolute_error: 0.2262 - val_loss: 0.1423 - val_mean_absolute_error: 0.2379\n",
      "Epoch 55/100\n",
      "27/27 [==============================] - 0s 4ms/step - loss: 0.1381 - mean_absolute_error: 0.2254 - val_loss: 0.1420 - val_mean_absolute_error: 0.2429\n",
      "Epoch 56/100\n",
      "27/27 [==============================] - 0s 3ms/step - loss: 0.1378 - mean_absolute_error: 0.2296 - val_loss: 0.1409 - val_mean_absolute_error: 0.2369\n",
      "Epoch 57/100\n",
      "27/27 [==============================] - 0s 3ms/step - loss: 0.1375 - mean_absolute_error: 0.2250 - val_loss: 0.1399 - val_mean_absolute_error: 0.2366\n",
      "Epoch 58/100\n",
      "27/27 [==============================] - 0s 3ms/step - loss: 0.1375 - mean_absolute_error: 0.2247 - val_loss: 0.1404 - val_mean_absolute_error: 0.2394\n",
      "Epoch 59/100\n",
      "27/27 [==============================] - 0s 3ms/step - loss: 0.1372 - mean_absolute_error: 0.2229 - val_loss: 0.1408 - val_mean_absolute_error: 0.2445\n",
      "Epoch 60/100\n",
      "27/27 [==============================] - 0s 3ms/step - loss: 0.1370 - mean_absolute_error: 0.2279 - val_loss: 0.1400 - val_mean_absolute_error: 0.2363\n",
      "Epoch 61/100\n",
      "27/27 [==============================] - 0s 3ms/step - loss: 0.1369 - mean_absolute_error: 0.2244 - val_loss: 0.1398 - val_mean_absolute_error: 0.2352\n",
      "Epoch 62/100\n",
      "27/27 [==============================] - 0s 3ms/step - loss: 0.1367 - mean_absolute_error: 0.2245 - val_loss: 0.1394 - val_mean_absolute_error: 0.2351\n",
      "Epoch 63/100\n",
      "27/27 [==============================] - 0s 3ms/step - loss: 0.1365 - mean_absolute_error: 0.2229 - val_loss: 0.1400 - val_mean_absolute_error: 0.2358\n",
      "Epoch 64/100\n",
      "27/27 [==============================] - 0s 4ms/step - loss: 0.1362 - mean_absolute_error: 0.2243 - val_loss: 0.1393 - val_mean_absolute_error: 0.2334\n",
      "Epoch 65/100\n",
      "27/27 [==============================] - 0s 3ms/step - loss: 0.1361 - mean_absolute_error: 0.2258 - val_loss: 0.1388 - val_mean_absolute_error: 0.2289\n",
      "Epoch 66/100\n",
      "27/27 [==============================] - 0s 3ms/step - loss: 0.1359 - mean_absolute_error: 0.2211 - val_loss: 0.1389 - val_mean_absolute_error: 0.2334\n",
      "Epoch 67/100\n",
      "27/27 [==============================] - 0s 3ms/step - loss: 0.1359 - mean_absolute_error: 0.2230 - val_loss: 0.1386 - val_mean_absolute_error: 0.2338\n",
      "Epoch 68/100\n",
      "27/27 [==============================] - 0s 3ms/step - loss: 0.1357 - mean_absolute_error: 0.2223 - val_loss: 0.1385 - val_mean_absolute_error: 0.2319\n",
      "Epoch 69/100\n",
      "27/27 [==============================] - 0s 3ms/step - loss: 0.1353 - mean_absolute_error: 0.2237 - val_loss: 0.1388 - val_mean_absolute_error: 0.2292\n",
      "Epoch 70/100\n",
      "27/27 [==============================] - 0s 3ms/step - loss: 0.1354 - mean_absolute_error: 0.2204 - val_loss: 0.1386 - val_mean_absolute_error: 0.2349\n",
      "Epoch 71/100\n",
      "27/27 [==============================] - 0s 3ms/step - loss: 0.1354 - mean_absolute_error: 0.2230 - val_loss: 0.1389 - val_mean_absolute_error: 0.2321\n",
      "Epoch 72/100\n",
      "27/27 [==============================] - 0s 3ms/step - loss: 0.1350 - mean_absolute_error: 0.2222 - val_loss: 0.1387 - val_mean_absolute_error: 0.2300\n",
      "Epoch 73/100\n",
      "27/27 [==============================] - 0s 3ms/step - loss: 0.1350 - mean_absolute_error: 0.2219 - val_loss: 0.1385 - val_mean_absolute_error: 0.2327\n",
      "Epoch 74/100\n",
      "27/27 [==============================] - 0s 3ms/step - loss: 0.1348 - mean_absolute_error: 0.2223 - val_loss: 0.1388 - val_mean_absolute_error: 0.2296\n",
      "Epoch 75/100\n",
      "27/27 [==============================] - 0s 3ms/step - loss: 0.1345 - mean_absolute_error: 0.2224 - val_loss: 0.1388 - val_mean_absolute_error: 0.2261\n",
      "Epoch 76/100\n",
      "27/27 [==============================] - 0s 3ms/step - loss: 0.1345 - mean_absolute_error: 0.2174 - val_loss: 0.1378 - val_mean_absolute_error: 0.2332\n",
      "Epoch 77/100\n",
      "27/27 [==============================] - 0s 3ms/step - loss: 0.1345 - mean_absolute_error: 0.2212 - val_loss: 0.1382 - val_mean_absolute_error: 0.2342\n",
      "Epoch 78/100\n",
      "27/27 [==============================] - 0s 3ms/step - loss: 0.1345 - mean_absolute_error: 0.2217 - val_loss: 0.1379 - val_mean_absolute_error: 0.2310\n",
      "Epoch 79/100\n",
      "27/27 [==============================] - 0s 3ms/step - loss: 0.1343 - mean_absolute_error: 0.2214 - val_loss: 0.1381 - val_mean_absolute_error: 0.2289\n",
      "Epoch 80/100\n",
      "27/27 [==============================] - 0s 3ms/step - loss: 0.1341 - mean_absolute_error: 0.2218 - val_loss: 0.1378 - val_mean_absolute_error: 0.2225\n",
      "Epoch 81/100\n",
      "27/27 [==============================] - 0s 3ms/step - loss: 0.1343 - mean_absolute_error: 0.2175 - val_loss: 0.1374 - val_mean_absolute_error: 0.2283\n",
      "Epoch 82/100\n",
      "27/27 [==============================] - 0s 3ms/step - loss: 0.1339 - mean_absolute_error: 0.2181 - val_loss: 0.1383 - val_mean_absolute_error: 0.2317\n",
      "Epoch 83/100\n",
      "27/27 [==============================] - 0s 3ms/step - loss: 0.1336 - mean_absolute_error: 0.2238 - val_loss: 0.1375 - val_mean_absolute_error: 0.2250\n",
      "Epoch 84/100\n",
      "27/27 [==============================] - 0s 3ms/step - loss: 0.1337 - mean_absolute_error: 0.2174 - val_loss: 0.1383 - val_mean_absolute_error: 0.2312\n",
      "Epoch 85/100\n",
      "27/27 [==============================] - 0s 3ms/step - loss: 0.1335 - mean_absolute_error: 0.2188 - val_loss: 0.1381 - val_mean_absolute_error: 0.2352\n",
      "Epoch 86/100\n",
      "27/27 [==============================] - 0s 3ms/step - loss: 0.1335 - mean_absolute_error: 0.2218 - val_loss: 0.1380 - val_mean_absolute_error: 0.2302\n",
      "Epoch 87/100\n",
      "27/27 [==============================] - 0s 3ms/step - loss: 0.1333 - mean_absolute_error: 0.2211 - val_loss: 0.1380 - val_mean_absolute_error: 0.2298\n",
      "Epoch 88/100\n",
      "27/27 [==============================] - 0s 3ms/step - loss: 0.1331 - mean_absolute_error: 0.2216 - val_loss: 0.1377 - val_mean_absolute_error: 0.2270\n",
      "Epoch 89/100\n",
      "27/27 [==============================] - 0s 3ms/step - loss: 0.1331 - mean_absolute_error: 0.2169 - val_loss: 0.1374 - val_mean_absolute_error: 0.2259\n",
      "Epoch 90/100\n",
      "27/27 [==============================] - 0s 3ms/step - loss: 0.1328 - mean_absolute_error: 0.2176 - val_loss: 0.1383 - val_mean_absolute_error: 0.2325\n",
      "Epoch 91/100\n",
      "27/27 [==============================] - 0s 3ms/step - loss: 0.1327 - mean_absolute_error: 0.2191 - val_loss: 0.1375 - val_mean_absolute_error: 0.2307\n",
      "Epoch 92/100\n",
      "27/27 [==============================] - 0s 3ms/step - loss: 0.1325 - mean_absolute_error: 0.2215 - val_loss: 0.1384 - val_mean_absolute_error: 0.2235\n",
      "Epoch 93/100\n",
      "27/27 [==============================] - 0s 3ms/step - loss: 0.1327 - mean_absolute_error: 0.2191 - val_loss: 0.1378 - val_mean_absolute_error: 0.2267\n",
      "Epoch 94/100\n",
      "27/27 [==============================] - 0s 3ms/step - loss: 0.1325 - mean_absolute_error: 0.2185 - val_loss: 0.1376 - val_mean_absolute_error: 0.2277\n",
      "Epoch 95/100\n",
      "27/27 [==============================] - 0s 3ms/step - loss: 0.1324 - mean_absolute_error: 0.2180 - val_loss: 0.1376 - val_mean_absolute_error: 0.2288\n",
      "Epoch 96/100\n",
      "27/27 [==============================] - 0s 3ms/step - loss: 0.1323 - mean_absolute_error: 0.2163 - val_loss: 0.1379 - val_mean_absolute_error: 0.2344\n",
      "Epoch 97/100\n",
      "27/27 [==============================] - 0s 3ms/step - loss: 0.1320 - mean_absolute_error: 0.2212 - val_loss: 0.1376 - val_mean_absolute_error: 0.2243\n",
      "Epoch 98/100\n",
      "27/27 [==============================] - 0s 3ms/step - loss: 0.1324 - mean_absolute_error: 0.2183 - val_loss: 0.1373 - val_mean_absolute_error: 0.2249\n",
      "Epoch 99/100\n",
      "27/27 [==============================] - 0s 4ms/step - loss: 0.1320 - mean_absolute_error: 0.2195 - val_loss: 0.1378 - val_mean_absolute_error: 0.2225\n",
      "Epoch 100/100\n",
      "27/27 [==============================] - 0s 3ms/step - loss: 0.1320 - mean_absolute_error: 0.2185 - val_loss: 0.1377 - val_mean_absolute_error: 0.2210\n"
     ]
    }
   ],
   "source": [
    "history = model.fit(train_features, train_target, epochs=100, validation_split=.2)"
   ]
  },
  {
   "cell_type": "code",
   "execution_count": 47,
   "id": "311fddc5",
   "metadata": {},
   "outputs": [],
   "source": [
    "test_features = (test_features - test_features.mean()) / test_features.std()\n",
    "test_target = (test_target - test_target.mean()) / test_target.std()"
   ]
  },
  {
   "cell_type": "code",
   "execution_count": 49,
   "id": "0470ee18",
   "metadata": {
    "scrolled": true
   },
   "outputs": [
    {
     "name": "stdout",
     "output_type": "stream",
     "text": [
      "9/9 [==============================] - 0s 2ms/step - loss: 0.2178 - mean_absolute_error: 0.2818\n"
     ]
    },
    {
     "data": {
      "text/plain": [
       "[0.21783176064491272, 0.28175538778305054]"
      ]
     },
     "execution_count": 49,
     "metadata": {},
     "output_type": "execute_result"
    }
   ],
   "source": [
    "model.evaluate(test_features, test_target)"
   ]
  },
  {
   "cell_type": "code",
   "execution_count": 41,
   "id": "204cb09d",
   "metadata": {},
   "outputs": [
    {
     "name": "stdout",
     "output_type": "stream",
     "text": [
      "9/9 [==============================] - 0s 1ms/step\n"
     ]
    }
   ],
   "source": [
    "test_predictions = model.predict(test_features).flatten()"
   ]
  },
  {
   "cell_type": "code",
   "execution_count": 42,
   "id": "642af610",
   "metadata": {},
   "outputs": [
    {
     "data": {
      "text/plain": [
       "array([ 1.742164  ,  1.6178961 , -0.38367596,  0.26171672, -1.0172569 ,\n",
       "       -0.2813934 ,  0.04905136,  0.24191128, -0.57392275, -0.44166386,\n",
       "        1.1723746 , -0.40469623,  0.19633989,  0.15151934,  0.11621048,\n",
       "        2.1246874 ,  1.9642326 , -0.09915227,  0.01318644, -0.68323296,\n",
       "        2.291663  ,  0.34498316,  0.13555218, -0.85341907,  0.01700681,\n",
       "        0.04543997, -0.8572168 ,  1.6946208 , -0.1453066 , -0.6284266 ,\n",
       "       -0.1958055 , -1.1413438 , -1.1778283 ,  1.690646  , -0.9181876 ,\n",
       "       -0.3921433 , -0.67916393, -0.57269263, -0.67416215, -0.5497073 ,\n",
       "       -0.88160634, -0.36006796, -0.06921966, -0.6112981 , -0.28433385,\n",
       "        0.05921472, -0.29738927,  1.7798194 ,  0.9319198 , -0.41365033,\n",
       "       -0.56079525, -0.10813618, -0.18312858, -0.9397565 , -0.38389677,\n",
       "        1.7286736 ,  2.3212845 , -0.56854534, -0.24415855, -0.8046286 ,\n",
       "       -0.3173552 , -0.82748085, -0.1737033 ,  0.21597071, -1.0725689 ,\n",
       "       -0.5435328 ,  0.5381863 ,  0.9347827 , -0.6382462 ,  1.3809868 ,\n",
       "       -0.156633  , -0.9854659 , -0.32345974,  0.1370105 , -0.9049934 ,\n",
       "        0.02597172, -0.25308615,  0.01793955,  1.5568779 ,  1.8360201 ,\n",
       "       -0.5219041 , -0.07683833, -0.72950417,  0.20454223, -0.782008  ,\n",
       "       -0.41593343, -1.1350571 , -0.09205543,  1.2774022 , -0.69539434,\n",
       "       -0.33178982, -0.5747173 ,  0.3849359 ,  2.0734735 , -0.10321444,\n",
       "       -0.7362343 , -0.11164206, -0.03215327,  1.1670023 , -0.9217131 ,\n",
       "       -0.28487277,  2.820109  , -0.16368215, -0.13160418, -0.6426326 ,\n",
       "       -0.73873633, -0.28106058, -0.9857563 , -0.3625472 , -1.1257223 ,\n",
       "       -0.4469196 , -0.6333976 , -0.44339207, -0.15687568, -0.9397276 ,\n",
       "       -0.699854  ,  0.8891169 , -0.8594524 ,  1.0234386 ,  1.6400763 ,\n",
       "       -0.07666294, -0.3322116 , -0.31907862,  0.11138423, -0.11446369,\n",
       "       -0.06559536, -1.0509417 , -0.48121136, -0.4467571 , -0.7397092 ,\n",
       "       -0.03033026,  1.9186518 , -0.25562668, -0.7898853 , -0.9900231 ,\n",
       "       -0.81235355, -0.07359363,  0.2276869 ,  0.49641436,  0.04810059,\n",
       "       -0.33918282,  2.035405  , -0.8752376 , -0.42711037, -0.24516249,\n",
       "       -0.69084823, -0.1191456 , -0.46400344,  0.13209777, -0.4847712 ,\n",
       "       -0.386429  , -0.5549358 , -0.18749072, -0.21229927, -1.1004797 ,\n",
       "       -0.5771022 , -0.8202843 ,  2.0489683 , -0.88885605, -0.6326628 ,\n",
       "       -1.0154995 , -0.6327641 , -0.06919469, -0.6969166 , -1.0307871 ,\n",
       "       -0.48632395,  1.7986912 ,  2.1304123 , -0.12688105,  1.5148548 ,\n",
       "        2.9950426 , -0.46607065,  0.01186085, -0.65388936, -0.16620754,\n",
       "       -0.8080708 ,  0.9271035 ,  1.7561864 , -1.049691  ,  0.00830705,\n",
       "        0.14665715,  0.24828981,  0.5057467 , -0.6930722 ,  0.4965939 ,\n",
       "       -0.5476087 , -0.14176738,  0.14617063, -0.7645114 ,  1.0525724 ,\n",
       "       -0.5218189 ,  0.94035053,  1.9192935 , -0.10067026, -0.31033042,\n",
       "       -0.8064591 , -1.0634842 , -0.47186804, -0.09479378, -0.46515208,\n",
       "        1.3646196 , -0.36230862,  2.095247  , -0.10244016,  0.09049939,\n",
       "        1.0334624 , -0.7829751 ,  1.6351842 , -0.97071755, -0.3519959 ,\n",
       "       -0.29831302, -0.4940945 ,  0.07483961,  0.19752714, -0.7867143 ,\n",
       "       -0.6651933 ,  0.30768317, -0.2567545 , -0.82885396, -0.3709492 ,\n",
       "        2.0811758 ,  1.0851915 , -0.7698052 , -0.62564945, -0.9419288 ,\n",
       "       -0.52653056, -0.53012294,  1.6337045 , -0.7372029 , -0.28988546,\n",
       "       -0.7776722 , -0.5642552 ,  1.1438522 , -0.16045068,  0.84065557,\n",
       "       -0.42307281, -0.4278051 , -0.44567168, -0.30085075,  0.7932559 ,\n",
       "        0.00920353,  1.8918382 , -0.5973853 , -0.53612775, -0.8797862 ,\n",
       "       -0.26700458, -0.66723377, -0.48397338, -0.604205  , -0.01365225,\n",
       "        2.5756006 , -0.9553603 , -0.84153116,  0.01673169, -0.8137505 ,\n",
       "       -0.62638986, -0.7040831 ,  1.3248699 , -0.5000929 , -0.39927822,\n",
       "        1.5456172 ,  1.5210679 , -0.7453536 , -0.7591027 , -0.7201577 ,\n",
       "       -0.29465485, -0.34971347, -0.04481738], dtype=float32)"
      ]
     },
     "execution_count": 42,
     "metadata": {},
     "output_type": "execute_result"
    }
   ],
   "source": [
    "test_prediction"
   ]
  },
  {
   "cell_type": "code",
   "execution_count": 45,
   "id": "0f01e6cd",
   "metadata": {},
   "outputs": [
    {
     "data": {
      "text/html": [
       "<div>\n",
       "<style scoped>\n",
       "    .dataframe tbody tr th:only-of-type {\n",
       "        vertical-align: middle;\n",
       "    }\n",
       "\n",
       "    .dataframe tbody tr th {\n",
       "        vertical-align: top;\n",
       "    }\n",
       "\n",
       "    .dataframe thead th {\n",
       "        text-align: right;\n",
       "    }\n",
       "</style>\n",
       "<table border=\"1\" class=\"dataframe\">\n",
       "  <thead>\n",
       "    <tr style=\"text-align: right;\">\n",
       "      <th></th>\n",
       "      <th>age</th>\n",
       "      <th>sex</th>\n",
       "      <th>bmi</th>\n",
       "      <th>children</th>\n",
       "      <th>smoker</th>\n",
       "      <th>region_northeast</th>\n",
       "      <th>region_northwest</th>\n",
       "      <th>region_southeast</th>\n",
       "      <th>region_southwest</th>\n",
       "    </tr>\n",
       "  </thead>\n",
       "  <tbody>\n",
       "    <tr>\n",
       "      <th>11</th>\n",
       "      <td>1.616311</td>\n",
       "      <td>-1.067582</td>\n",
       "      <td>-0.655486</td>\n",
       "      <td>-0.929704</td>\n",
       "      <td>1.838690</td>\n",
       "      <td>-0.524557</td>\n",
       "      <td>-0.610706</td>\n",
       "      <td>1.800507</td>\n",
       "      <td>-0.616458</td>\n",
       "    </tr>\n",
       "    <tr>\n",
       "      <th>23</th>\n",
       "      <td>-0.430398</td>\n",
       "      <td>-1.067582</td>\n",
       "      <td>0.247501</td>\n",
       "      <td>-0.085092</td>\n",
       "      <td>1.838690</td>\n",
       "      <td>1.899258</td>\n",
       "      <td>-0.610706</td>\n",
       "      <td>-0.553327</td>\n",
       "      <td>-0.616458</td>\n",
       "    </tr>\n",
       "    <tr>\n",
       "      <th>24</th>\n",
       "      <td>-0.211108</td>\n",
       "      <td>0.933201</td>\n",
       "      <td>-0.377212</td>\n",
       "      <td>0.759521</td>\n",
       "      <td>-0.541836</td>\n",
       "      <td>-0.524557</td>\n",
       "      <td>1.631339</td>\n",
       "      <td>-0.553327</td>\n",
       "      <td>-0.616458</td>\n",
       "    </tr>\n",
       "    <tr>\n",
       "      <th>25</th>\n",
       "      <td>1.397021</td>\n",
       "      <td>-1.067582</td>\n",
       "      <td>-0.426130</td>\n",
       "      <td>1.604133</td>\n",
       "      <td>-0.541836</td>\n",
       "      <td>-0.524557</td>\n",
       "      <td>-0.610706</td>\n",
       "      <td>1.800507</td>\n",
       "      <td>-0.616458</td>\n",
       "    </tr>\n",
       "    <tr>\n",
       "      <th>28</th>\n",
       "      <td>-1.234463</td>\n",
       "      <td>0.933201</td>\n",
       "      <td>-2.083743</td>\n",
       "      <td>-0.085092</td>\n",
       "      <td>-0.541836</td>\n",
       "      <td>-0.524557</td>\n",
       "      <td>1.631339</td>\n",
       "      <td>-0.553327</td>\n",
       "      <td>-0.616458</td>\n",
       "    </tr>\n",
       "    <tr>\n",
       "      <th>...</th>\n",
       "      <td>...</td>\n",
       "      <td>...</td>\n",
       "      <td>...</td>\n",
       "      <td>...</td>\n",
       "      <td>...</td>\n",
       "      <td>...</td>\n",
       "      <td>...</td>\n",
       "      <td>...</td>\n",
       "      <td>...</td>\n",
       "    </tr>\n",
       "    <tr>\n",
       "      <th>1305</th>\n",
       "      <td>-1.161366</td>\n",
       "      <td>-1.067582</td>\n",
       "      <td>-0.426130</td>\n",
       "      <td>-0.929704</td>\n",
       "      <td>-0.541836</td>\n",
       "      <td>-0.524557</td>\n",
       "      <td>-0.610706</td>\n",
       "      <td>1.800507</td>\n",
       "      <td>-0.616458</td>\n",
       "    </tr>\n",
       "    <tr>\n",
       "      <th>1315</th>\n",
       "      <td>-1.599946</td>\n",
       "      <td>0.933201</td>\n",
       "      <td>-0.331501</td>\n",
       "      <td>-0.085092</td>\n",
       "      <td>-0.541836</td>\n",
       "      <td>1.899258</td>\n",
       "      <td>-0.610706</td>\n",
       "      <td>-0.553327</td>\n",
       "      <td>-0.616458</td>\n",
       "    </tr>\n",
       "    <tr>\n",
       "      <th>1318</th>\n",
       "      <td>-0.357301</td>\n",
       "      <td>0.933201</td>\n",
       "      <td>1.496926</td>\n",
       "      <td>2.448745</td>\n",
       "      <td>-0.541836</td>\n",
       "      <td>1.899258</td>\n",
       "      <td>-0.610706</td>\n",
       "      <td>-0.553327</td>\n",
       "      <td>-0.616458</td>\n",
       "    </tr>\n",
       "    <tr>\n",
       "      <th>1326</th>\n",
       "      <td>0.154376</td>\n",
       "      <td>-1.067582</td>\n",
       "      <td>0.399870</td>\n",
       "      <td>-0.929704</td>\n",
       "      <td>-0.541836</td>\n",
       "      <td>1.899258</td>\n",
       "      <td>-0.610706</td>\n",
       "      <td>-0.553327</td>\n",
       "      <td>-0.616458</td>\n",
       "    </tr>\n",
       "    <tr>\n",
       "      <th>1333</th>\n",
       "      <td>0.739150</td>\n",
       "      <td>0.933201</td>\n",
       "      <td>0.095132</td>\n",
       "      <td>1.604133</td>\n",
       "      <td>-0.541836</td>\n",
       "      <td>-0.524557</td>\n",
       "      <td>1.631339</td>\n",
       "      <td>-0.553327</td>\n",
       "      <td>-0.616458</td>\n",
       "    </tr>\n",
       "  </tbody>\n",
       "</table>\n",
       "<p>268 rows × 9 columns</p>\n",
       "</div>"
      ],
      "text/plain": [
       "           age       sex       bmi  children    smoker  region_northeast  \\\n",
       "11    1.616311 -1.067582 -0.655486 -0.929704  1.838690         -0.524557   \n",
       "23   -0.430398 -1.067582  0.247501 -0.085092  1.838690          1.899258   \n",
       "24   -0.211108  0.933201 -0.377212  0.759521 -0.541836         -0.524557   \n",
       "25    1.397021 -1.067582 -0.426130  1.604133 -0.541836         -0.524557   \n",
       "28   -1.234463  0.933201 -2.083743 -0.085092 -0.541836         -0.524557   \n",
       "...        ...       ...       ...       ...       ...               ...   \n",
       "1305 -1.161366 -1.067582 -0.426130 -0.929704 -0.541836         -0.524557   \n",
       "1315 -1.599946  0.933201 -0.331501 -0.085092 -0.541836          1.899258   \n",
       "1318 -0.357301  0.933201  1.496926  2.448745 -0.541836          1.899258   \n",
       "1326  0.154376 -1.067582  0.399870 -0.929704 -0.541836          1.899258   \n",
       "1333  0.739150  0.933201  0.095132  1.604133 -0.541836         -0.524557   \n",
       "\n",
       "      region_northwest  region_southeast  region_southwest  \n",
       "11           -0.610706          1.800507         -0.616458  \n",
       "23           -0.610706         -0.553327         -0.616458  \n",
       "24            1.631339         -0.553327         -0.616458  \n",
       "25           -0.610706          1.800507         -0.616458  \n",
       "28            1.631339         -0.553327         -0.616458  \n",
       "...                ...               ...               ...  \n",
       "1305         -0.610706          1.800507         -0.616458  \n",
       "1315         -0.610706         -0.553327         -0.616458  \n",
       "1318         -0.610706         -0.553327         -0.616458  \n",
       "1326         -0.610706         -0.553327         -0.616458  \n",
       "1333          1.631339         -0.553327         -0.616458  \n",
       "\n",
       "[268 rows x 9 columns]"
      ]
     },
     "execution_count": 45,
     "metadata": {},
     "output_type": "execute_result"
    }
   ],
   "source": [
    "test_target"
   ]
  },
  {
   "cell_type": "code",
   "execution_count": 53,
   "id": "56714c22",
   "metadata": {
    "scrolled": false
   },
   "outputs": [
    {
     "name": "stdout",
     "output_type": "stream",
     "text": [
      "9/9 [==============================] - 0s 994us/step\n"
     ]
    },
    {
     "data": {
      "image/png": "[encoded data removed]",
      "text/plain": [
       "<Figure size 640x480 with 1 Axes>"
      ]
     },
     "metadata": {},
     "output_type": "display_data"
    }
   ],
   "source": [
    "test_predictions = model.predict(test_features).flatten()\n",
    "\n",
    "a = plt.axes(aspect='equal')\n",
    "plt.scatter(test_target, test_predictions)\n",
    "plt.xlabel('True Values')\n",
    "plt.ylabel('Predictions')\n",
    "lims = [0, 4]\n",
    "plt.xlim(lims)\n",
    "plt.ylim(lims)\n",
    "_ = plt.plot(lims, lims)\n"
   ]
  },
  {
   "cell_type": "code",
   "execution_count": 54,
   "id": "2f7d5981",
   "metadata": {},
   "outputs": [
    {
     "data": {
      "image/png": "[encoded data removed]",
      "text/plain": [
       "<Figure size 640x480 with 1 Axes>"
      ]
     },
     "metadata": {},
     "output_type": "display_data"
    }
   ],
   "source": [
    "error = test_predictions - test_target\n",
    "plt.hist(error, bins=25)\n",
    "plt.xlabel('Prediction Error [MPG]')\n",
    "_ = plt.ylabel('Count')\n"
   ]
  }
 ],
 "metadata": {
  "kernelspec": {
   "display_name": "Python 3 (ipykernel)",
   "language": "python",
   "name": "python3"
  },
  "language_info": {
   "codemirror_mode": {
    "name": "ipython",
    "version": 3
   },
   "file_extension": ".py",
   "mimetype": "text/x-python",
   "name": "python",
   "nbconvert_exporter": "python",
   "pygments_lexer": "ipython3",
   "version": "3.11.5"
  }
 },
 "nbformat": 4,
 "nbformat_minor": 5
}
